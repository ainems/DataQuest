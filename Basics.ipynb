{
 "cells": [
  {
   "cell_type": "markdown",
   "metadata": {},
   "source": [
    "# Determining App Production by Analyzing Popularity in both iOS and Android Markets"
   ]
  },
  {
   "cell_type": "markdown",
   "metadata": {},
   "source": [
    "We seek to answer which apps attract the most customers so that we can bolster our revenue by adjusting strategy accordingly.\n",
    "\n",
    "The current plan is to introduce apps on Google first, gauge consumer response for further development, and create a version for iOS if the app is profitiable after 6 months. \n",
    "\n",
    "To this end, we need to understand what types of apps are lucrative in both markets."
   ]
  },
  {
   "cell_type": "code",
   "execution_count": 1,
   "metadata": {},
   "outputs": [],
   "source": [
    "from csv import reader\n",
    "\n",
    "### Apple\n",
    "open_apple = open('AppleStore.csv')\n",
    "read_apple = reader(open_apple)\n",
    "apple = list(read_apple)\n",
    "apple_header = apple[0]\n",
    "apple_data = apple[1:]\n",
    "\n",
    "### Google\n",
    "open_google = open('googleplaystore.csv')\n",
    "read_google = reader(open_google)\n",
    "google = list(read_google)\n",
    "google_header = google[0]\n",
    "google_data = google[1:]"
   ]
  },
  {
   "cell_type": "code",
   "execution_count": 2,
   "metadata": {},
   "outputs": [],
   "source": [
    "def explore_data(dataset, start, end, rows_and_columns=False):\n",
    "    dataset_slice = dataset[start:end]    \n",
    "    for row in dataset_slice:\n",
    "        print(row)\n",
    "        print('\\n') # adds a new (empty) line after each row\n",
    "\n",
    "    if rows_and_columns:\n",
    "        print('Number of rows:', len(dataset))\n",
    "        print('Number of columns:', len(dataset[0]))"
   ]
  },
  {
   "cell_type": "markdown",
   "metadata": {},
   "source": [
    "## Explore Apple iOS data"
   ]
  },
  {
   "cell_type": "code",
   "execution_count": 3,
   "metadata": {},
   "outputs": [
    {
     "name": "stdout",
     "output_type": "stream",
     "text": [
      "['389801252', 'Instagram', '113954816', 'USD', '0.0', '2161558', '1289', '4.5', '4.0', '10.23', '12+', 'Photo & Video', '37', '0', '29', '1']\n",
      "\n",
      "\n",
      "['529479190', 'Clash of Clans', '116476928', 'USD', '0.0', '2130805', '579', '4.5', '4.5', '9.24.12', '9+', 'Games', '38', '5', '18', '1']\n",
      "\n",
      "\n",
      "Number of rows: 7197\n",
      "Number of columns: 16\n"
     ]
    }
   ],
   "source": [
    "explore_data(apple_data,1,3, rows_and_columns = True)"
   ]
  },
  {
   "cell_type": "code",
   "execution_count": 4,
   "metadata": {},
   "outputs": [
    {
     "name": "stdout",
     "output_type": "stream",
     "text": [
      "['id', 'track_name', 'size_bytes', 'currency', 'price', 'rating_count_tot', 'rating_count_ver', 'user_rating', 'user_rating_ver', 'ver', 'cont_rating', 'prime_genre', 'sup_devices.num', 'ipadSc_urls.num', 'lang.num', 'vpp_lic']\n"
     ]
    }
   ],
   "source": [
    "print(apple_header)"
   ]
  },
  {
   "cell_type": "markdown",
   "metadata": {},
   "source": [
    "## Explore Google Play data"
   ]
  },
  {
   "cell_type": "code",
   "execution_count": 5,
   "metadata": {},
   "outputs": [
    {
     "name": "stdout",
     "output_type": "stream",
     "text": [
      "['Coloring book moana', 'ART_AND_DESIGN', '3.9', '967', '14M', '500,000+', 'Free', '0', 'Everyone', 'Art & Design;Pretend Play', 'January 15, 2018', '2.0.0', '4.0.3 and up']\n",
      "\n",
      "\n",
      "['U Launcher Lite – FREE Live Cool Themes, Hide Apps', 'ART_AND_DESIGN', '4.7', '87510', '8.7M', '5,000,000+', 'Free', '0', 'Everyone', 'Art & Design', 'August 1, 2018', '1.2.4', '4.0.3 and up']\n",
      "\n",
      "\n",
      "Number of rows: 10841\n",
      "Number of columns: 13\n"
     ]
    }
   ],
   "source": [
    "explore_data(google_data,1,3, rows_and_columns = True)"
   ]
  },
  {
   "cell_type": "code",
   "execution_count": 6,
   "metadata": {},
   "outputs": [
    {
     "name": "stdout",
     "output_type": "stream",
     "text": [
      "['App', 'Category', 'Rating', 'Reviews', 'Size', 'Installs', 'Type', 'Price', 'Content Rating', 'Genres', 'Last Updated', 'Current Ver', 'Android Ver']\n"
     ]
    }
   ],
   "source": [
    "print(google_header)"
   ]
  },
  {
   "cell_type": "code",
   "execution_count": 7,
   "metadata": {},
   "outputs": [
    {
     "name": "stdout",
     "output_type": "stream",
     "text": [
      "['Life Made WI-Fi Touchscreen Photo Frame', '1.9', '19', '3.0M', '1,000+', 'Free', '0', 'Everyone', '', 'February 11, 2018', '1.0.19', '4.0 and up']\n"
     ]
    }
   ],
   "source": [
    "print(google_data[10472])"
   ]
  },
  {
   "cell_type": "code",
   "execution_count": 8,
   "metadata": {},
   "outputs": [
    {
     "name": "stdout",
     "output_type": "stream",
     "text": [
      "['App', 'Category', 'Rating', 'Reviews', 'Size', 'Installs', 'Type', 'Price', 'Content Rating', 'Genres', 'Last Updated', 'Current Ver', 'Android Ver']\n"
     ]
    }
   ],
   "source": [
    "print(google_header)"
   ]
  },
  {
   "cell_type": "code",
   "execution_count": 9,
   "metadata": {},
   "outputs": [
    {
     "name": "stdout",
     "output_type": "stream",
     "text": [
      "10841\n"
     ]
    }
   ],
   "source": [
    "print(len(google_data))"
   ]
  },
  {
   "cell_type": "code",
   "execution_count": 10,
   "metadata": {},
   "outputs": [],
   "source": [
    "del google_data[10472]"
   ]
  },
  {
   "cell_type": "code",
   "execution_count": 11,
   "metadata": {},
   "outputs": [
    {
     "name": "stdout",
     "output_type": "stream",
     "text": [
      "10840\n"
     ]
    }
   ],
   "source": [
    "print(len(google_data))"
   ]
  },
  {
   "cell_type": "markdown",
   "metadata": {},
   "source": [
    "## Find duplicate apps\n",
    "\n",
    "Are there duplicate apps in the datasets? We iterate through each dataset to find out."
   ]
  },
  {
   "cell_type": "code",
   "execution_count": 12,
   "metadata": {},
   "outputs": [
    {
     "data": {
      "text/plain": [
       "1181"
      ]
     },
     "execution_count": 12,
     "metadata": {},
     "output_type": "execute_result"
    }
   ],
   "source": [
    "unique_google = []\n",
    "duplicate_google = []\n",
    "\n",
    "for app in google_data:\n",
    "    name = app[0]\n",
    "    if name not in unique_google:\n",
    "        unique_google.append(name)\n",
    "    elif name in unique_google:\n",
    "        duplicate_google.append(name)\n",
    "len(duplicate_google)"
   ]
  },
  {
   "cell_type": "code",
   "execution_count": 13,
   "metadata": {},
   "outputs": [
    {
     "data": {
      "text/plain": [
       "0"
      ]
     },
     "execution_count": 13,
     "metadata": {},
     "output_type": "execute_result"
    }
   ],
   "source": [
    "unique_apple = []\n",
    "duplicate_apple = []\n",
    "\n",
    "for app in apple_data:\n",
    "    name = app[0]\n",
    "    if name not in unique_apple:\n",
    "        unique_apple.append(name)\n",
    "    elif name in unique_apple:\n",
    "        duplicate_apple.append(name)\n",
    "len(duplicate_apple)"
   ]
  },
  {
   "cell_type": "markdown",
   "metadata": {},
   "source": [
    "## Clean Google data\n",
    "\n",
    "We want to keep records with the highest number of reviews since they are the most current. To this end, we put the correct values in the dictionary ``reviews_max``, referencing this dictionary while sorting app data into a clean list.\n",
    "\n",
    "Next, we determine which apps have english characters in them as we only want to analyze english-speaking apps. These go into a list for Google and Apple each."
   ]
  },
  {
   "cell_type": "code",
   "execution_count": 14,
   "metadata": {},
   "outputs": [
    {
     "data": {
      "text/plain": [
       "9659"
      ]
     },
     "execution_count": 14,
     "metadata": {},
     "output_type": "execute_result"
    }
   ],
   "source": [
    "reviews_max = {}\n",
    "for app in google_data:\n",
    "    name = app[0]\n",
    "    n_reviews = float(app[3])\n",
    "    if name in reviews_max and reviews_max[name] < n_reviews:\n",
    "        reviews_max[name] = n_reviews\n",
    "    elif name not in reviews_max:\n",
    "        reviews_max[name] = n_reviews\n",
    "len(reviews_max)"
   ]
  },
  {
   "cell_type": "code",
   "execution_count": 15,
   "metadata": {},
   "outputs": [
    {
     "data": {
      "text/plain": [
       "9659"
      ]
     },
     "execution_count": 15,
     "metadata": {},
     "output_type": "execute_result"
    }
   ],
   "source": [
    "android_clean = []\n",
    "already_added = []\n",
    "\n",
    "for app in google_data:\n",
    "    name = app[0]\n",
    "    n_reviews = float(app[3])\n",
    "    if (reviews_max[name] == n_reviews) and (name not in already_added):\n",
    "        android_clean.append(app)\n",
    "        already_added.append(name)\n",
    "len(android_clean)"
   ]
  },
  {
   "cell_type": "code",
   "execution_count": 16,
   "metadata": {},
   "outputs": [],
   "source": [
    "def english_check(string):\n",
    "    check = 0\n",
    "    for char in string:\n",
    "        if ord(char) > 127:\n",
    "            check+=1\n",
    "    if check > 3:\n",
    "        return False\n",
    "    else:\n",
    "        return True\n",
    "\n"
   ]
  },
  {
   "cell_type": "code",
   "execution_count": 17,
   "metadata": {},
   "outputs": [
    {
     "name": "stdout",
     "output_type": "stream",
     "text": [
      "True\n"
     ]
    }
   ],
   "source": [
    "print(english_check('Docs To Go™ Free Office Suite'))"
   ]
  },
  {
   "cell_type": "code",
   "execution_count": 18,
   "metadata": {},
   "outputs": [],
   "source": [
    "google_english = []\n",
    "\n",
    "for app in android_clean:\n",
    "    name = app[0]\n",
    "    if english_check(name):\n",
    "        google_english.append(app)"
   ]
  },
  {
   "cell_type": "code",
   "execution_count": 19,
   "metadata": {},
   "outputs": [
    {
     "data": {
      "text/plain": [
       "9614"
      ]
     },
     "execution_count": 19,
     "metadata": {},
     "output_type": "execute_result"
    }
   ],
   "source": [
    "len(google_english)"
   ]
  },
  {
   "cell_type": "code",
   "execution_count": 20,
   "metadata": {},
   "outputs": [],
   "source": [
    "apple_english = []\n",
    "\n",
    "for app in apple_data:\n",
    "    name = app[1]\n",
    "    if english_check(name):\n",
    "        apple_english.append(app)"
   ]
  },
  {
   "cell_type": "code",
   "execution_count": 21,
   "metadata": {},
   "outputs": [
    {
     "data": {
      "text/plain": [
       "6183"
      ]
     },
     "execution_count": 21,
     "metadata": {},
     "output_type": "execute_result"
    }
   ],
   "source": [
    "len(apple_english)"
   ]
  },
  {
   "cell_type": "code",
   "execution_count": 22,
   "metadata": {},
   "outputs": [
    {
     "name": "stdout",
     "output_type": "stream",
     "text": [
      "8864\n",
      "3222\n"
     ]
    }
   ],
   "source": [
    "free_google = []\n",
    "free_apple = []\n",
    "\n",
    "for app in google_english:\n",
    "    price = app[7]\n",
    "    if price == '0':\n",
    "        free_google.append(app)\n",
    "\n",
    "for app in apple_english:\n",
    "    price = app[4]\n",
    "    if price == '0.0':\n",
    "        free_apple.append(app)\n",
    "\n",
    "print(len(free_google))\n",
    "print(len(free_apple))"
   ]
  },
  {
   "cell_type": "markdown",
   "metadata": {},
   "source": [
    "## Analysis\n",
    "\n",
    "Now, we determine the most common genres for Google and Apple. We want to find cross-over here since we plan to develop apps for both markets, first launching and further developing in Play (Google) and then launching in iOS (Apple) if we see profits after 6 months in Play.\n",
    "\n",
    "We will examine the genre columns, indexed 9 in the Google dataset and indexed 11 in Apple."
   ]
  },
  {
   "cell_type": "code",
   "execution_count": 23,
   "metadata": {},
   "outputs": [],
   "source": [
    "def freq_table(dataset, index):\n",
    "    dct = {}\n",
    "    total= 0\n",
    "    \n",
    "    for row in dataset:\n",
    "        total+=1\n",
    "        column = row[index]\n",
    "        if column not in dct:\n",
    "            dct[column] = 1\n",
    "        elif column in dct:\n",
    "            dct[column]+=1\n",
    "            \n",
    "    table_percentages = {}\n",
    "    for key in dct:\n",
    "        percentage = (dct[key]/total)*100\n",
    "        table_percentages[key] = percentage\n",
    "    \n",
    "    return table_percentages"
   ]
  },
  {
   "cell_type": "code",
   "execution_count": 24,
   "metadata": {},
   "outputs": [],
   "source": [
    "def display_table(dataset, index):\n",
    "    table = freq_table(dataset, index)\n",
    "    table_display = []\n",
    "    for key in table:\n",
    "        key_val_as_tuple = (table[key], key)\n",
    "        table_display.append(key_val_as_tuple)\n",
    "\n",
    "    table_sorted = sorted(table_display, reverse = True)\n",
    "    for entry in table_sorted:\n",
    "        print(entry[1], ':', entry[0])"
   ]
  },
  {
   "cell_type": "markdown",
   "metadata": {},
   "source": [
    "### Run a table for Google's Genre column\n",
    "\n",
    "Tools is the most common free app genre at 8.4%, followed by Entertainment at 6%. Practical genres such as Education, Business, Productivity, etc, dominate the top percentages with the exception of Entertainment.\n",
    "\n",
    "It seems that games have been split into very specific genres and that there is no overall games genre to observe."
   ]
  },
  {
   "cell_type": "code",
   "execution_count": 25,
   "metadata": {},
   "outputs": [
    {
     "name": "stdout",
     "output_type": "stream",
     "text": [
      "Tools : 8.449909747292418\n",
      "Entertainment : 6.069494584837545\n",
      "Education : 5.347472924187725\n",
      "Business : 4.591606498194946\n",
      "Productivity : 3.892148014440433\n",
      "Lifestyle : 3.892148014440433\n",
      "Finance : 3.7003610108303246\n",
      "Medical : 3.531137184115524\n",
      "Sports : 3.463447653429603\n",
      "Personalization : 3.3167870036101084\n",
      "Communication : 3.2378158844765346\n",
      "Action : 3.1024368231046933\n",
      "Health & Fitness : 3.0798736462093865\n",
      "Photography : 2.944494584837545\n",
      "News & Magazines : 2.7978339350180503\n",
      "Social : 2.6624548736462095\n",
      "Travel & Local : 2.3240072202166067\n",
      "Shopping : 2.2450361010830324\n",
      "Books & Reference : 2.1435018050541514\n",
      "Simulation : 2.0419675090252705\n",
      "Dating : 1.861462093862816\n",
      "Arcade : 1.8501805054151623\n",
      "Video Players & Editors : 1.7712093862815883\n",
      "Casual : 1.7599277978339352\n",
      "Maps & Navigation : 1.3989169675090252\n",
      "Food & Drink : 1.2409747292418771\n",
      "Puzzle : 1.128158844765343\n",
      "Racing : 0.9927797833935018\n",
      "Role Playing : 0.9363718411552346\n",
      "Libraries & Demo : 0.9363718411552346\n",
      "Auto & Vehicles : 0.9250902527075812\n",
      "Strategy : 0.9138086642599278\n",
      "House & Home : 0.8235559566787004\n",
      "Weather : 0.8009927797833934\n",
      "Events : 0.7107400722021661\n",
      "Adventure : 0.6768953068592057\n",
      "Comics : 0.6092057761732852\n",
      "Beauty : 0.5979241877256317\n",
      "Art & Design : 0.5979241877256317\n",
      "Parenting : 0.4963898916967509\n",
      "Card : 0.45126353790613716\n",
      "Casino : 0.42870036101083037\n",
      "Trivia : 0.41741877256317694\n",
      "Educational;Education : 0.39485559566787\n",
      "Board : 0.3835740072202166\n",
      "Educational : 0.3722924187725632\n",
      "Education;Education : 0.33844765342960287\n",
      "Word : 0.2594765342960289\n",
      "Casual;Pretend Play : 0.236913357400722\n",
      "Music : 0.2030685920577617\n",
      "Racing;Action & Adventure : 0.16922382671480143\n",
      "Puzzle;Brain Games : 0.16922382671480143\n",
      "Entertainment;Music & Video : 0.16922382671480143\n",
      "Casual;Brain Games : 0.13537906137184114\n",
      "Casual;Action & Adventure : 0.13537906137184114\n",
      "Arcade;Action & Adventure : 0.12409747292418773\n",
      "Action;Action & Adventure : 0.10153429602888085\n",
      "Educational;Pretend Play : 0.09025270758122744\n",
      "Simulation;Action & Adventure : 0.078971119133574\n",
      "Parenting;Education : 0.078971119133574\n",
      "Entertainment;Brain Games : 0.078971119133574\n",
      "Board;Brain Games : 0.078971119133574\n",
      "Parenting;Music & Video : 0.06768953068592057\n",
      "Educational;Brain Games : 0.06768953068592057\n",
      "Casual;Creativity : 0.06768953068592057\n",
      "Art & Design;Creativity : 0.06768953068592057\n",
      "Education;Pretend Play : 0.056407942238267145\n",
      "Role Playing;Pretend Play : 0.04512635379061372\n",
      "Education;Creativity : 0.04512635379061372\n",
      "Role Playing;Action & Adventure : 0.033844765342960284\n",
      "Puzzle;Action & Adventure : 0.033844765342960284\n",
      "Entertainment;Creativity : 0.033844765342960284\n",
      "Entertainment;Action & Adventure : 0.033844765342960284\n",
      "Educational;Creativity : 0.033844765342960284\n",
      "Educational;Action & Adventure : 0.033844765342960284\n",
      "Education;Music & Video : 0.033844765342960284\n",
      "Education;Brain Games : 0.033844765342960284\n",
      "Education;Action & Adventure : 0.033844765342960284\n",
      "Adventure;Action & Adventure : 0.033844765342960284\n",
      "Video Players & Editors;Music & Video : 0.02256317689530686\n",
      "Sports;Action & Adventure : 0.02256317689530686\n",
      "Simulation;Pretend Play : 0.02256317689530686\n",
      "Puzzle;Creativity : 0.02256317689530686\n",
      "Music;Music & Video : 0.02256317689530686\n",
      "Entertainment;Pretend Play : 0.02256317689530686\n",
      "Casual;Education : 0.02256317689530686\n",
      "Board;Action & Adventure : 0.02256317689530686\n",
      "Video Players & Editors;Creativity : 0.01128158844765343\n",
      "Trivia;Education : 0.01128158844765343\n",
      "Travel & Local;Action & Adventure : 0.01128158844765343\n",
      "Tools;Education : 0.01128158844765343\n",
      "Strategy;Education : 0.01128158844765343\n",
      "Strategy;Creativity : 0.01128158844765343\n",
      "Strategy;Action & Adventure : 0.01128158844765343\n",
      "Simulation;Education : 0.01128158844765343\n",
      "Role Playing;Brain Games : 0.01128158844765343\n",
      "Racing;Pretend Play : 0.01128158844765343\n",
      "Puzzle;Education : 0.01128158844765343\n",
      "Parenting;Brain Games : 0.01128158844765343\n",
      "Music & Audio;Music & Video : 0.01128158844765343\n",
      "Lifestyle;Pretend Play : 0.01128158844765343\n",
      "Lifestyle;Education : 0.01128158844765343\n",
      "Health & Fitness;Education : 0.01128158844765343\n",
      "Health & Fitness;Action & Adventure : 0.01128158844765343\n",
      "Entertainment;Education : 0.01128158844765343\n",
      "Communication;Creativity : 0.01128158844765343\n",
      "Comics;Creativity : 0.01128158844765343\n",
      "Casual;Music & Video : 0.01128158844765343\n",
      "Card;Action & Adventure : 0.01128158844765343\n",
      "Books & Reference;Education : 0.01128158844765343\n",
      "Art & Design;Pretend Play : 0.01128158844765343\n",
      "Art & Design;Action & Adventure : 0.01128158844765343\n",
      "Arcade;Pretend Play : 0.01128158844765343\n",
      "Adventure;Education : 0.01128158844765343\n",
      "None\n"
     ]
    }
   ],
   "source": [
    "print(display_table(free_google,-4))\n"
   ]
  },
  {
   "cell_type": "markdown",
   "metadata": {},
   "source": [
    "### Run a table for Apple's Prime Genre column\n",
    "\n",
    "Games by far dominate Apple's free app genres by making up 58% of iOS apps, long followed by Entertainment, Education, Photo & Video, and Utilities.\n",
    "\n",
    "This is very different from Google's frequency tables, which focus on Family and Tools over games. Additionally Apple's apps are not as evenly distributed as Google's."
   ]
  },
  {
   "cell_type": "code",
   "execution_count": 26,
   "metadata": {},
   "outputs": [
    {
     "name": "stdout",
     "output_type": "stream",
     "text": [
      "Games : 58.16263190564867\n",
      "Entertainment : 7.883302296710118\n",
      "Photo & Video : 4.9658597144630665\n",
      "Education : 3.662321539416512\n",
      "Social Networking : 3.2898820608317814\n",
      "Shopping : 2.60707635009311\n",
      "Utilities : 2.5139664804469275\n",
      "Sports : 2.1415270018621975\n",
      "Music : 2.0484171322160147\n",
      "Health & Fitness : 2.0173805090006205\n",
      "Productivity : 1.7380509000620732\n",
      "Lifestyle : 1.5828677839851024\n",
      "News : 1.3345747982619491\n",
      "Travel : 1.2414649286157666\n",
      "Finance : 1.1173184357541899\n",
      "Weather : 0.8690254500310366\n",
      "Food & Drink : 0.8069522036002483\n",
      "Reference : 0.5586592178770949\n",
      "Business : 0.5276225946617008\n",
      "Book : 0.4345127250155183\n",
      "Navigation : 0.186219739292365\n",
      "Medical : 0.186219739292365\n",
      "Catalogs : 0.12414649286157665\n",
      "None\n"
     ]
    }
   ],
   "source": [
    "print(display_table(free_apple,-5))\n"
   ]
  },
  {
   "cell_type": "markdown",
   "metadata": {},
   "source": [
    "### Run a table for Google's Category column\n",
    "\n",
    "Family dominates Google's free app Categories by 18.9%, followed by Games and Tools at 9.7% and 8.4%. "
   ]
  },
  {
   "cell_type": "code",
   "execution_count": 27,
   "metadata": {},
   "outputs": [
    {
     "name": "stdout",
     "output_type": "stream",
     "text": [
      "FAMILY : 18.907942238267147\n",
      "GAME : 9.724729241877256\n",
      "TOOLS : 8.461191335740072\n",
      "BUSINESS : 4.591606498194946\n",
      "LIFESTYLE : 3.9034296028880866\n",
      "PRODUCTIVITY : 3.892148014440433\n",
      "FINANCE : 3.7003610108303246\n",
      "MEDICAL : 3.531137184115524\n",
      "SPORTS : 3.395758122743682\n",
      "PERSONALIZATION : 3.3167870036101084\n",
      "COMMUNICATION : 3.2378158844765346\n",
      "HEALTH_AND_FITNESS : 3.0798736462093865\n",
      "PHOTOGRAPHY : 2.944494584837545\n",
      "NEWS_AND_MAGAZINES : 2.7978339350180503\n",
      "SOCIAL : 2.6624548736462095\n",
      "TRAVEL_AND_LOCAL : 2.33528880866426\n",
      "SHOPPING : 2.2450361010830324\n",
      "BOOKS_AND_REFERENCE : 2.1435018050541514\n",
      "DATING : 1.861462093862816\n",
      "VIDEO_PLAYERS : 1.7937725631768955\n",
      "MAPS_AND_NAVIGATION : 1.3989169675090252\n",
      "FOOD_AND_DRINK : 1.2409747292418771\n",
      "EDUCATION : 1.1620036101083033\n",
      "ENTERTAINMENT : 0.9589350180505415\n",
      "LIBRARIES_AND_DEMO : 0.9363718411552346\n",
      "AUTO_AND_VEHICLES : 0.9250902527075812\n",
      "HOUSE_AND_HOME : 0.8235559566787004\n",
      "WEATHER : 0.8009927797833934\n",
      "EVENTS : 0.7107400722021661\n",
      "PARENTING : 0.6543321299638989\n",
      "ART_AND_DESIGN : 0.6430505415162455\n",
      "COMICS : 0.6204873646209386\n",
      "BEAUTY : 0.5979241877256317\n",
      "None\n"
     ]
    }
   ],
   "source": [
    "print(display_table(free_google,1))\n"
   ]
  },
  {
   "cell_type": "markdown",
   "metadata": {},
   "source": [
    "### Calculate average number of ratings per genre for Apple iOS\n",
    "\n",
    "First, we save a frequency table for Apple's Prime Genre column. Then, we iterate through iOS free app data to determine the average count of reviews per genre."
   ]
  },
  {
   "cell_type": "code",
   "execution_count": 30,
   "metadata": {
    "scrolled": true
   },
   "outputs": [
    {
     "name": "stdout",
     "output_type": "stream",
     "text": [
      "{'Social Networking': 3.2898820608317814, 'Photo & Video': 4.9658597144630665, 'Games': 58.16263190564867, 'Music': 2.0484171322160147, 'Reference': 0.5586592178770949, 'Health & Fitness': 2.0173805090006205, 'Weather': 0.8690254500310366, 'Utilities': 2.5139664804469275, 'Travel': 1.2414649286157666, 'Shopping': 2.60707635009311, 'News': 1.3345747982619491, 'Navigation': 0.186219739292365, 'Lifestyle': 1.5828677839851024, 'Entertainment': 7.883302296710118, 'Food & Drink': 0.8069522036002483, 'Sports': 2.1415270018621975, 'Book': 0.4345127250155183, 'Finance': 1.1173184357541899, 'Education': 3.662321539416512, 'Productivity': 1.7380509000620732, 'Business': 0.5276225946617008, 'Catalogs': 0.12414649286157665, 'Medical': 0.186219739292365}\n"
     ]
    }
   ],
   "source": [
    "genres_ios = freq_table(free_apple,-5)\n",
    "print(genres_ios)"
   ]
  },
  {
   "cell_type": "code",
   "execution_count": 35,
   "metadata": {},
   "outputs": [
    {
     "name": "stdout",
     "output_type": "stream",
     "text": [
      "Social Networking 71548.34905660378\n",
      "Photo & Video 28441.54375\n",
      "Games 22788.6696905016\n",
      "Music 57326.530303030304\n",
      "Reference 74942.11111111111\n",
      "Health & Fitness 23298.015384615384\n",
      "Weather 52279.892857142855\n",
      "Utilities 18684.456790123455\n",
      "Travel 28243.8\n",
      "Shopping 26919.690476190477\n",
      "News 21248.023255813954\n",
      "Navigation 86090.33333333333\n",
      "Lifestyle 16485.764705882353\n",
      "Entertainment 14029.830708661417\n",
      "Food & Drink 33333.92307692308\n",
      "Sports 23008.898550724636\n",
      "Book 39758.5\n",
      "Finance 31467.944444444445\n",
      "Education 7003.983050847458\n",
      "Productivity 21028.410714285714\n",
      "Business 7491.117647058823\n",
      "Catalogs 4004.0\n",
      "Medical 612.0\n"
     ]
    }
   ],
   "source": [
    "for genre in genres_ios:\n",
    "    total = 0\n",
    "    len_genre = 0\n",
    "    for app in free_apple:\n",
    "        genre_app = app[-5]\n",
    "        if genre_app == genre:\n",
    "            ratings = float(app[5])\n",
    "            total = total+ratings\n",
    "            len_genre+=1\n",
    "    avg_ratings = total/len_genre\n",
    "    print(genre, avg_ratings)"
   ]
  },
  {
   "cell_type": "markdown",
   "metadata": {},
   "source": [
    "### Observing popular iOS genres by average review count\n",
    "\n",
    "First, we delved into free Business apps. It seems that a handful of career apps account for the highest average review counts and that there is not a wide variety of other apps.\n",
    "\n",
    "Next, we looked into Education free apps. While there are a few giants with high average review counts, there are also more apps for users to choose from with a more inclusive scale of average review counts."
   ]
  },
  {
   "cell_type": "code",
   "execution_count": 36,
   "metadata": {},
   "outputs": [
    {
     "name": "stdout",
     "output_type": "stream",
     "text": [
      "Indeed Job Search : 38681\n",
      "Flashlight ◎ : 24744\n",
      "Adobe Acrobat Reader: View, Create, & Convert PDFs : 20069\n",
      "Scanner App - PDF Document Scan : 11696\n",
      "SayHi Translate : 8623\n",
      "ADP Mobile Solutions : 8324\n",
      "Sideline - 2nd Phone Number : 7907\n",
      "Uber Driver : 3289\n",
      "AirWatch Agent : 1150\n",
      "VPN Go - Safe Fast & Stable VPN Proxy : 881\n",
      "Cisco AnyConnect : 825\n",
      "GreenVPN - Free & fast VPN with unlimited traffic : 464\n",
      "iPlum Business Phone Number for Calling & Texting : 392\n",
      "OPEN Forum : 200\n",
      "Pulse Secure : 53\n",
      "DingTalk : 40\n",
      "Mon Espace - Pôle emploi : 11\n"
     ]
    }
   ],
   "source": [
    "for app in free_apple:\n",
    "    if app[-5] == 'Business':\n",
    "        print(app[1],':',app[5])"
   ]
  },
  {
   "cell_type": "code",
   "execution_count": 37,
   "metadata": {},
   "outputs": [
    {
     "name": "stdout",
     "output_type": "stream",
     "text": [
      "Duolingo - Learn Spanish, French and more : 162701\n",
      "Guess My Age  Math Magic : 123190\n",
      "Lumosity - Brain Training : 96534\n",
      "Elevate - Brain Training and Games : 58092\n",
      "Fit Brains Trainer : 46363\n",
      "ClassDojo : 35440\n",
      "Memrise: learn languages : 20383\n",
      "Peak - Brain Training : 20322\n",
      "Canvas by Instructure : 19981\n",
      "ABCmouse.com - Early Learning Academy : 18749\n",
      "Quizlet: Study Flashcards, Languages & Vocabulary : 16683\n",
      "Photomath - Camera Calculator : 16523\n",
      "iTunes U : 15801\n",
      "Blackboard Mobile Learn™ : 13567\n",
      "Star Chart : 13482\n",
      "Remind: Fast, Efficient School Messaging : 9796\n",
      "PBS KIDS Video : 8651\n",
      "Toca Kitchen Monsters : 8062\n",
      "Toca Hair Salon - Christmas Gift : 8049\n",
      "Edmodo : 7197\n",
      "Prodigy Math Game : 6683\n",
      "Epic! - Unlimited Books for Kids : 6676\n",
      "ChineseSkill -Learn Mandarin Chinese Language Free : 6077\n",
      "Google Classroom : 5942\n",
      "TED : 5782\n",
      "Khan Academy: you can learn anything : 5459\n",
      "Got It - Homework Help Math, Chem, Physics Solver : 4903\n",
      "PowerSchool Mobile : 4547\n",
      "SkyView® Free - Explore the Universe : 4188\n",
      "Hopscotch : 4057\n",
      "IXL - Math and English : 3546\n",
      "Simply Piano by JoyTunes - Learn & play piano : 2925\n",
      "Kids A-Z : 2887\n",
      "Infinite Campus Mobile Portal : 2286\n",
      "PlayKids - Educational Cartoons and Games for Kids : 2196\n",
      "Memorado Brain Training for Memory & Mindfulness : 2067\n",
      "Bookshelf : 2064\n",
      "Mathway - Math Problem Solver : 1854\n",
      "Schoology : 1777\n",
      "HelloTalk Language Exchange Learning App : 1619\n",
      "SpellingCity : 1566\n",
      "Nick Jr. : 1541\n",
      "Babbel – Learn Languages Spanish, French & more : 1533\n",
      "Yup - Homework Help with Math & Science Tutors : 1424\n",
      "Mondly: Learn 33 Languages: Spanish English French : 1395\n",
      "WWF Together : 1385\n",
      "Tinycards - Learn with Fun, Free Flashcards : 1131\n",
      "Nearpod : 1057\n",
      "Starfall FREE : 1019\n",
      "Reflex Student : 1010\n",
      "GoldieBlox and the Movie Machine : 1000\n",
      "Pearson eText : 981\n",
      "codeSpark Academy with The Foos - coding for kids : 977\n",
      "Dr. Panda Restaurant Asia : 853\n",
      "NOGGIN - Preschool Shows & Educational Kids Videos : 782\n",
      "Tynker - Learn to Code. Programming Made Easy. : 771\n",
      "BrainHQ - Brain Training : 684\n",
      "Top Hat Lecture : 668\n",
      "Pearson eText for Schools : 609\n",
      "Curious World: Games, Videos, Books for Children : 604\n",
      "McGraw-Hill K-12 ConnectED Mobile : 594\n",
      "Socrative Student : 581\n",
      "Swift Playgrounds : 578\n",
      "MarcoPolo Ocean : 529\n",
      "TestNav : 491\n",
      "Starfall Learn to Read : 474\n",
      "Speakaboos Reading App: Stories & Songs for Kids : 440\n",
      "Bloxels: Build, Play & Share Your Own Video Games : 382\n",
      "GoNoodle Kids : 372\n",
      "Global Shark Tracker : 336\n",
      "The Robot Factory by Tinybop : 335\n",
      "Daniel Tiger’s Day & Night : 314\n",
      "Kahoot! Play Fun Learning Games : 300\n",
      "Spanish SOLO: Learn Spanish With Lessons On The Go : 275\n",
      "Math 42 : 248\n",
      "Star Walk 2 Ads+ Night Sky Map - Stars and Planets : 161\n",
      "Toca Dance Free : 149\n",
      "Endless Learning Academy : 143\n",
      "270toWin : 141\n",
      "Win the White House : 123\n",
      "Sago Mini Babies Dress Up : 115\n",
      "Nancy Drew Codes and Clues Mystery Coding Game : 110\n",
      "1600 : 110\n",
      "BEAKER by THIX : 94\n",
      "Highlights™ Shapes - Preschool Learning Puzzles : 90\n",
      "Little Panda's Candy Shop - Lollipop Factory : 84\n",
      "Mathpix - Solve and graph math using pictures : 83\n",
      "Blue Apprentice Elementary Science Game by Galxyz : 79\n",
      "PINKFONG Birthday Party : 70\n",
      "Hopster: Kids TV, Nursery Rhymes, Music, Fun Games : 58\n",
      "Sago Mini Holiday Trucks and Diggers : 56\n",
      "Dr. Panda Toy Cars Free : 51\n",
      "Virry Educational. Play, learn with real animals : 50\n",
      "Highlights Monster Day : 49\n",
      "PlayKids Learn - Learning through play : 49\n",
      "PBS KIDS ScratchJr : 38\n",
      "Lemon Lumberjack's Letter Mill : 34\n",
      "Ready Jet Go! Space Explorer : 34\n",
      "Chinese Recipes - Asian cuisine : 32\n",
      "Nature Cat's Great Outdoors : 31\n",
      "Show My Homework : 17\n",
      "PINKFONG 123 Numbers : 17\n",
      "Aquarium VR : 12\n",
      "Little Panda Mini Games-3D : 9\n",
      "Stylish School Timetable : 7\n",
      "Merry Christmas -Activities : 7\n",
      "Mastering the piano with Lang Lang : 6\n",
      "Baby Panda's Carnival : 6\n",
      "Driving test 2017 : 5\n",
      "Cutie Patootie - Xmas Surprise : 5\n",
      "Free IQ Test: Calculate your IQ : 5\n",
      "Beautiful Japanese Handwriting for iPhone : 0\n",
      "GhostCallDX : 0\n",
      "Baby Learns Transportation : 0\n",
      "Baby Panda's Bath Time : 0\n",
      "Beautiful Japanese Handwriting : 0\n",
      "Spring Festival by BabyBus : 0\n",
      "Dinosaur Planet : 0\n"
     ]
    }
   ],
   "source": [
    "for app in free_apple:\n",
    "    if app[-5] == 'Education':\n",
    "        print(app[1],':',app[5])"
   ]
  },
  {
   "cell_type": "markdown",
   "metadata": {},
   "source": [
    "### iOS app recommendation\n",
    "\n",
    "Education is a big share of iOS free apps and also sees a high average count of reviews among those apps, which to me indicates that this is a popular category for users to explore new apps. To this end, I would recommend building an Education app for iOS."
   ]
  },
  {
   "cell_type": "markdown",
   "metadata": {},
   "source": [
    "### Calculate average number of install per genre for Google Android"
   ]
  },
  {
   "cell_type": "code",
   "execution_count": 39,
   "metadata": {},
   "outputs": [],
   "source": [
    "genres_android = freq_table(free_google,1)"
   ]
  },
  {
   "cell_type": "code",
   "execution_count": 40,
   "metadata": {},
   "outputs": [
    {
     "name": "stdout",
     "output_type": "stream",
     "text": [
      "1,000,000+ : 15.726534296028879\n",
      "100,000+ : 11.552346570397113\n",
      "10,000,000+ : 10.548285198555957\n",
      "10,000+ : 10.198555956678701\n",
      "1,000+ : 8.393501805054152\n",
      "100+ : 6.915613718411552\n",
      "5,000,000+ : 6.825361010830325\n",
      "500,000+ : 5.561823104693141\n",
      "50,000+ : 4.7721119133574\n",
      "5,000+ : 4.512635379061372\n",
      "10+ : 3.5424187725631766\n",
      "500+ : 3.2490974729241873\n",
      "50,000,000+ : 2.3014440433213\n",
      "100,000,000+ : 2.1322202166064983\n",
      "50+ : 1.917870036101083\n",
      "5+ : 0.78971119133574\n",
      "1+ : 0.5076714801444043\n",
      "500,000,000+ : 0.2707581227436823\n",
      "1,000,000,000+ : 0.22563176895306858\n",
      "0+ : 0.04512635379061372\n",
      "0 : 0.01128158844765343\n",
      "None\n"
     ]
    }
   ],
   "source": [
    "print(display_table(free_google, 5))"
   ]
  },
  {
   "cell_type": "code",
   "execution_count": 44,
   "metadata": {},
   "outputs": [
    {
     "name": "stdout",
     "output_type": "stream",
     "text": [
      "ART_AND_DESIGN : 1986335.0877192982\n",
      "AUTO_AND_VEHICLES : 647317.8170731707\n",
      "BEAUTY : 513151.88679245283\n",
      "BOOKS_AND_REFERENCE : 8767811.894736841\n",
      "BUSINESS : 1712290.1474201474\n",
      "COMICS : 817657.2727272727\n",
      "COMMUNICATION : 38456119.167247385\n",
      "DATING : 854028.8303030303\n",
      "EDUCATION : 1833495.145631068\n",
      "ENTERTAINMENT : 11640705.88235294\n",
      "EVENTS : 253542.22222222222\n",
      "FINANCE : 1387692.475609756\n",
      "FOOD_AND_DRINK : 1924897.7363636363\n",
      "HEALTH_AND_FITNESS : 4188821.9853479853\n",
      "HOUSE_AND_HOME : 1331540.5616438356\n",
      "LIBRARIES_AND_DEMO : 638503.734939759\n",
      "LIFESTYLE : 1437816.2687861272\n",
      "GAME : 15588015.603248259\n",
      "FAMILY : 3695641.8198090694\n",
      "MEDICAL : 120550.61980830671\n",
      "SOCIAL : 23253652.127118643\n",
      "SHOPPING : 7036877.311557789\n",
      "PHOTOGRAPHY : 17840110.40229885\n",
      "SPORTS : 3638640.1428571427\n",
      "TRAVEL_AND_LOCAL : 13984077.710144928\n",
      "TOOLS : 10801391.298666667\n",
      "PERSONALIZATION : 5201482.6122448975\n",
      "PRODUCTIVITY : 16787331.344927534\n",
      "PARENTING : 542603.6206896552\n",
      "WEATHER : 5074486.197183099\n",
      "VIDEO_PLAYERS : 24727872.452830188\n",
      "NEWS_AND_MAGAZINES : 9549178.467741935\n",
      "MAPS_AND_NAVIGATION : 4056941.7741935486\n"
     ]
    }
   ],
   "source": [
    "for genre in genres_android:\n",
    "    total = 0\n",
    "    len_category = 0\n",
    "    for app in free_google:\n",
    "        category_app = app[1]\n",
    "        if category_app == genre:\n",
    "            installs = app[5]\n",
    "            installs = installs.replace('+','')\n",
    "            installs = installs.replace(',','')\n",
    "            total = total + int(installs)\n",
    "            len_category += 1\n",
    "    avg_installs = total/len_category\n",
    "    print(genre, ':', avg_installs)"
   ]
  },
  {
   "cell_type": "code",
   "execution_count": 45,
   "metadata": {},
   "outputs": [
    {
     "name": "stdout",
     "output_type": "stream",
     "text": [
      "Waze - GPS, Maps, Traffic Alerts & Live Navigation : 100,000,000+\n",
      "T map (te map, T map, navigation) : 5,000,000+\n",
      "MapQuest: Directions, Maps, GPS & Navigation : 10,000,000+\n",
      "Yahoo! transit guide free timetable, operation information, transfer search : 10,000,000+\n",
      "乗換NAVITIME　Timetable & Route Search in Japan Tokyo : 5,000,000+\n",
      "Transit: Real-Time Transit App : 5,000,000+\n",
      "Mapy.cz - Cycling & Hiking offline maps : 1,000,000+\n",
      "Uber : 100,000,000+\n",
      "GPS Navigation & Offline Maps Sygic : 50,000,000+\n",
      "Map and Router Badge : 500,000+\n",
      "Yandex.Transport : 10,000,000+\n",
      "Air Traffic : 1,000,000+\n",
      "Speed Cameras Radar : 1,000,000+\n",
      "Atlan3D Navigation: Korea navigator : 1,000,000+\n",
      "Compass : 10,000,000+\n",
      "Mappy - Plan, route comparison, GPS : 1,000,000+\n",
      "Gps Route Finder : 100,000+\n",
      "My Location: GPS Maps, Share & Save Places : 5,000,000+\n",
      "Yanosik: \"antyradar\", traffic jams, navigation, camera : 5,000,000+\n",
      "NAVITIME - Map & Transfer Navi : 5,000,000+\n",
      "Sygic Car Navigation : 5,000,000+\n",
      "Czech Public Transport IDOS : 1,000,000+\n",
      "Karta GPS - Offline Navigation : 1,000,000+\n",
      "Circle ratio : 1,000,000+\n",
      "Soviet Military Maps Free : 1,000,000+\n",
      "Truck Car Navi by Navitime Large size car, traffic jam, traffic closure, live camera, typhoon / precipitation map : 100,000+\n",
      "Sentin Information Map : 100,000+\n",
      "Snapp : 1,000,000+\n",
      "GPS Speedometer and Odometer : 1,000,000+\n",
      "GPS Traffic Speedcam Route Planner by ViaMichelin : 5,000,000+\n",
      "Trucker Path – Truck Stops & Weigh Stations : 1,000,000+\n",
      "Map Coordinates : 1,000,000+\n",
      "Grab Driver : 5,000,000+\n",
      "SBB Mobile : 1,000,000+\n",
      "GPS Speedometer, Distance Meter : 1,000,000+\n",
      "Blitzer.de : 5,000,000+\n",
      "GPS Speedometer - Trip Meter - Altimeter : 1,000,000+\n",
      "Radarbot Free: Speed Camera Detector & Speedometer : 5,000,000+\n",
      "FindShip : 1,000,000+\n",
      "ÖBB Scotty : 1,000,000+\n",
      "Subway Terminator: Smarter Subway : 10,000,000+\n",
      "Alopec - Online Shipping System : 100,000+\n",
      "Yandex.Trains : 5,000,000+\n",
      "NAVITIME Bus Transit JAPAN : 1,000,000+\n",
      "hum app : 1,000,000+\n",
      "Moovit: Bus Time & Train Time Live Info : 10,000,000+\n",
      "Dynavix - Navigation, Maps, Traffic data & Cameras : 50,000+\n",
      "National Rail Enquiries : 1,000,000+\n",
      "ixigo Cabs-Compare & Book Taxi : 1,000,000+\n",
      "Maps & GPS Navigation — OsmAnd : 5,000,000+\n",
      "Plan B : 5,000+\n",
      "A & B Taxi : 1,000+\n",
      "My G: : 10,000+\n",
      "Q-Ticketing : 10,000+\n",
      "Big Q Car Service : 5,000+\n",
      "AT&T DriveMode : 10,000,000+\n",
      "MBTA GPS - Track the T : 5,000+\n",
      "Vienna U-Bahn : 10,000+\n",
      "Berlin Subway – BVG U-Bahn & S-Bahn map and routes : 100,000+\n",
      "Robin - AI Voice Assistant : 1,000,000+\n",
      "AJ Reminders : 10+\n",
      "GPS.AZ : 1,000+\n",
      "British Columbia Transit Info : 100+\n",
      "Tour BD (Bahir Dar Map) : 100+\n",
      "Free GPS Navigation : 50,000,000+\n",
      "Cordova BG Geolocation : 1,000+\n",
      "BL Driver : 10,000+\n",
      "BL Taxi : 1,000+\n",
      "Táxi Nacional BR : 5,000+\n",
      "BS MAPS : 50+\n",
      "Strætó.is : 100,000+\n",
      "BT Mobile : 1,000+\n",
      "BU Bus Tracker : 10,000+\n",
      "BV Taxi - Driver : 10+\n",
      "BV Taxi Sudan : 10+\n",
      "TomTom GPS Navigation Traffic : 10,000,000+\n",
      "BW Taxi : 5,000+\n",
      "Südtirol2Go : 50,000+\n",
      "Truck Chat & CB for Truckers : 10,000+\n",
      "CD COMET : 100+\n",
      "Co-op Taxi : 10,000+\n",
      "Comboios de Portugal : 100,000+\n",
      "Cestovné poriadky CP : 100,000+\n",
      "Traffic Info and Traffic Alert : 100,000+\n",
      "CY:ME - real time gps tracker : 1,000+\n",
      "Cyprus Bus Companion : 10,000+\n",
      "MYTO CZ : 5,000+\n",
      "DB Navigator : 10,000,000+\n",
      "DB Streckenagent : 500,000+\n",
      "DB Transport : 10,000+\n",
      "DB Busradar NRW : 10,000+\n",
      "Hamburg Transit - Offline HVV DB times and plans : 1,000+\n",
      "DC Rider : 50,000+\n",
      "DC Metro : 10,000+\n",
      "Speed Camera Radar : 5,000,000+\n",
      "DF 司機 : 500+\n",
      "Red Transporte DF : 500,000+\n",
      "Citymapper - Transit Navigation : 5,000,000+\n",
      "Transport DK : 10,000+\n",
      "Convert Coordinates DM to DMS : 5,000+\n",
      "DM TrackMan : 100+\n",
      "Discovery Insure : 100,000+\n",
      "DS Speedometer & Odometer : 1,000,000+\n",
      "DV Car Service : 100+\n",
      "Maps, GPS Navigation & Directions, Street View : 10,000,000+\n",
      "TrainPal EU- Book German Train Tickets : 100+\n",
      "Rail Planner Eurail/Interrail : 1,000,000+\n",
      "ChargeHub - Find EV & Tesla Charging Stations : 50,000+\n",
      "PlugShare : 100,000+\n",
      "NEXTCHARGE - Charging Stations : 50,000+\n",
      "EV Connect : 1,000+\n",
      "EV Stations Hawaii : 1,000+\n",
      "JuiceNet - Smart EV Charging : 5,000+\n",
      "Zap-Map: EV charging points UK : 10,000+\n",
      "EV Charging : 1,000+\n",
      "Electric Car Charging Points: Ev charger Stations : 100+\n",
      "ELMO EV Charging : 1,000+\n",
      "Power Plug EV charger : 1,000+\n",
      "FC Parking : 500+\n",
      "Gainesville Bus Tracker : 10,000+\n",
      "Posta App : 1,000+\n",
      "FP Legacy : 1,000+\n",
      "Hondata Mobile : 10,000+\n",
      "payermonstationnement.fr : 5,000+\n"
     ]
    }
   ],
   "source": [
    "for app in free_google:\n",
    "    if app[1] == 'MAPS_AND_NAVIGATION':\n",
    "        print(app[0], ':', app[5])"
   ]
  },
  {
   "cell_type": "code",
   "execution_count": 47,
   "metadata": {},
   "outputs": [
    {
     "name": "stdout",
     "output_type": "stream",
     "text": [
      "Microsoft Word : 500,000,000+\n",
      "All-In-One Toolbox: Cleaner, Booster, App Manager : 10,000,000+\n",
      "AVG Cleaner – Speed, Battery & Memory Booster : 10,000,000+\n",
      "QR Scanner & Barcode Scanner 2018 : 10,000,000+\n",
      "Chrome Beta : 10,000,000+\n",
      "Microsoft Outlook : 100,000,000+\n",
      "Google PDF Viewer : 10,000,000+\n",
      "My Claro Peru : 5,000,000+\n",
      "Power Booster - Junk Cleaner & CPU Cooler & Boost : 1,000,000+\n",
      "Google Assistant : 10,000,000+\n",
      "Microsoft OneDrive : 100,000,000+\n",
      "Calculator - unit converter : 50,000,000+\n",
      "Microsoft OneNote : 100,000,000+\n",
      "Metro name iD : 10,000,000+\n",
      "Google Keep : 100,000,000+\n",
      "Archos File Manager : 5,000,000+\n",
      "ES File Explorer File Manager : 100,000,000+\n",
      "ASUS SuperNote : 10,000,000+\n",
      "HTC File Manager : 10,000,000+\n",
      "MyMTN : 1,000,000+\n",
      "Dropbox : 500,000,000+\n",
      "ASUS Quick Memo : 10,000,000+\n",
      "HTC Calendar : 10,000,000+\n",
      "Google Docs : 100,000,000+\n",
      "ASUS Calling Screen : 10,000,000+\n",
      "lifebox : 5,000,000+\n",
      "Yandex.Disk : 5,000,000+\n",
      "Content Transfer : 5,000,000+\n",
      "HTC Mail : 10,000,000+\n",
      "Advanced Task Killer : 50,000,000+\n",
      "MyVodafone (India) - Online Recharge & Pay Bills : 10,000,000+\n",
      "Microsoft PowerPoint : 100,000,000+\n",
      "Microsoft Translator : 5,000,000+\n",
      "My Airtel-Online Recharge, Pay Bill, Wallet, UPI : 50,000,000+\n",
      "Samsung Notes : 100,000,000+\n",
      "Do It Later: Tasks & To-Dos : 50,000,000+\n",
      "Verizon Cloud : 50,000,000+\n",
      "myAT&T : 50,000,000+\n",
      "SwiftKey Keyboard : 100,000,000+\n",
      "Hacker's Keyboard : 1,000,000+\n",
      "MEGA : 50,000,000+\n",
      "Security & Privacy : 1,000,000+\n",
      "7 Weeks - Habit & Goal Tracker : 500,000+\n",
      "Loop - Habit Tracker : 1,000,000+\n",
      "TickTick: To Do List with Reminder, Day Planner : 1,000,000+\n",
      "Keeper: Free Password Manager & Secure Vault : 10,000,000+\n",
      "Pushbullet - SMS on PC : 1,000,000+\n",
      "Wunderlist: To-Do List & Tasks : 10,000,000+\n",
      "Planner Pro-Personal Organizer : 1,000,000+\n",
      "Todoist: To-do lists for task management & errands : 10,000,000+\n",
      "Cozi Family Organizer : 1,000,000+\n",
      "IFTTT : 1,000,000+\n",
      "Trello : 5,000,000+\n",
      "Easy Voice Recorder : 10,000,000+\n",
      "Dashlane Free Password Manager : 1,000,000+\n",
      "CM FILE MANAGER HD : 10,000,000+\n",
      "Solid Explorer Classic : 1,000,000+\n",
      "File Browser by Astro (File Manager) : 50,000,000+\n",
      "File Explorer : 100,000+\n",
      "The Maner : 5,000,000+\n",
      "AndroZip™ FREE File Manager : 10,000,000+\n",
      "Solid Explorer File Manager : 1,000,000+\n",
      "Smart File Manager : 1,000,000+\n",
      "Google Drive : 1,000,000,000+\n",
      "Adobe Acrobat Reader : 100,000,000+\n",
      "Google Sheets : 100,000,000+\n",
      "Microsoft Excel : 100,000,000+\n",
      "Polaris Office - Word, Docs, Sheets, Slide, PDF : 10,000,000+\n",
      "WPS Office - Word, Docs, PDF, Note, Slide & Sheet : 100,000,000+\n",
      "Google Slides : 100,000,000+\n",
      "ColorNote Notepad Notes : 100,000,000+\n",
      "Note Everything : 5,000,000+\n",
      "Simple Notepad : 1,000,000+\n",
      "Keep My Notes - Notepad & Memo : 5,000,000+\n",
      "Sticky Note + : Sync Notes : 1,000,000+\n",
      "Notepad : 10,000,000+\n",
      "Squid - Take Notes & Markup PDFs : 1,000,000+\n",
      "Ultimate Notepad : 5,000,000+\n",
      "Notepad & To do list : 10,000,000+\n",
      "JotterPad - Writer, Screenplay, Novel : 1,000,000+\n",
      "Evernote – Organizer, Planner for Notes & Memos : 100,000,000+\n",
      "Any.do: To-do list, Calendar, Reminders & Planner : 10,000,000+\n",
      "Planning Center Services : 500,000+\n",
      "Calendar+ Schedule Planner App : 1,000,000+\n",
      "Today Calendar 2017 : 1,000,000+\n",
      "To-Do Calendar Planner : 1,000,000+\n",
      "New Calendar : 1,000,000+\n",
      "Calendar Widget Month + Agenda : 5,000,000+\n",
      "DigiCal Calendar Agenda : 5,000,000+\n",
      "Time Recording - Timesheet App : 1,000,000+\n",
      "Jorte Calendar & Organizer : 10,000,000+\n",
      "Business Calendar 2 : 5,000,000+\n",
      "Google Calendar : 500,000,000+\n",
      "aCalendar - Android Phone : 10,000,000+\n",
      "G Cloud Backup : 5,000,000+\n",
      "Unclouded - Cloud Manager : 100,000+\n",
      "Amazon Drive : 1,000,000+\n",
      "SugarSync : 1,000,000+\n",
      "pCloud: Free Cloud Storage : 1,000,000+\n",
      "MediaFire : 5,000,000+\n",
      "Cloud Print : 500,000,000+\n",
      "Fake Call - Fake Caller ID : 10,000,000+\n",
      "AutoCAD - DWG Viewer & Editor : 10,000,000+\n",
      "Alt-C : 10,000+\n",
      "My C Spire : 50,000+\n",
      "Mobile Security & Antivirus : 10,000,000+\n",
      "EX File Explorer File Manager : 1,000,000+\n",
      "EBookDroid - PDF & DJVU Reader : 5,000,000+\n",
      "Inputting Plus: Ctrl + Z/F/C/V : 50,000+\n",
      "CTRL-F - Search the real world : 50,000+\n",
      "Larry H Miller Automotive : 10,000+\n",
      "Add-On: Alcatel (h) : 50,000+\n",
      "J. Polep Plus Mobile : 100+\n",
      "K-App Mitarbeiter Galeria Kaufhof : 100+\n",
      "Calculator L : 100,000+\n",
      "Emoji Android L Keyboard : 1,000,000+\n",
      "Mobizen Screen Recorder - Record, Capture, Edit : 50,000,000+\n",
      "Tap N Pay : 10,000+\n",
      "N Files - File Manager & Explorer : 10,000+\n",
      "WiFi-o-Matic : 50,000+\n",
      "Multiling O Keyboard + emoji : 1,000,000+\n",
      "Official QR Code® Reader \"Q\" : 500,000+\n",
      "Q Actions - Digital Assistant : 500+\n",
      "Q Link Wireless Zone : 500,000+\n",
      "R-net for Android : 5,000+\n",
      "Mat|r viewer : 100+\n",
      "S Note : 10,000,000+\n",
      "S’more - Earn Cash Rewards : 1,000,000+\n",
      "SH Script Runner : 50,000+\n",
      "AT&T Mobile Transfer : 10,000,000+\n",
      "T-Mobile Content Transfer : 500,000+\n",
      "Můj T-Mobile Business : 1,000,000+\n",
      "U Assist - Screen Mirroring & Sharing App : 50,000+\n",
      "U+Box : 10,000,000+\n",
      "NQ Mobile Security & Antivirus : 10,000,000+\n",
      "Air Conditioner Maintenance : 5,000+\n",
      "Remote Control For All AC - Universal Remote : 10,000+\n",
      "Ad Detect Plugin - Handy Tool : 500,000+\n",
      "Safe Notes - Secure Ad-free notepad : 50,000+\n",
      "Adblock Fast : 1,000,000+\n",
      "Google AdSense : 1,000,000+\n",
      "Best Applock - Locker & No Ads : 100,000+\n",
      "TIMBER AD FILTER - Very useful ad block app : 100,000+\n",
      "ESS Mobile for AE : 5,000+\n",
      "Trimble Ag Mobile : 10,000+\n",
      "Ag PhD Soils : 1,000+\n",
      "Ag Trucking Mobile App : 100+\n",
      "Ag Guardian : 100+\n",
      "My Ag Report : 50+\n",
      "Mix Tank – Tank Mixing Ag App : 10,000+\n",
      "Extreme- Personal Voice Assistant : 1,000,000+\n",
      "Puck AI Personal Assistant Robot : 1,000+\n",
      "Builder (by Engineer.ai) : 100+\n",
      "Friday: Smart Personal Assistant : 100,000+\n",
      "Lyra Virtual Assistant : 1,000,000+\n",
      "ai.Bot Box : 10,000+\n",
      "MiAI (Artificial Intelligence) Assistant : 100+\n",
      "Turbo AI™ - Personal assistant : 5,000+\n",
      "AI Sight : 1,000+\n",
      "AL Voice Recorder : 1,000,000+\n",
      "AP ENPS Mobile : 5,000+\n",
      "AQ Guards : 10+\n",
      "QR Droid : 50,000,000+\n",
      "Mind Map AR, Augmented Reality ARCore Mind Mapping : 5,000+\n",
      "PDF Viewer & Book Reader : 5,000,000+\n",
      "Alarm Clock: Stopwatch & Timer : 50,000,000+\n",
      "Total AV : 100,000+\n",
      "Mobile Security: Antivirus, Web Scan & App Lock : 10,000,000+\n",
      "Professional AV Solution & Products information : 1,000+\n",
      "Bits Watch Face : 100,000+\n",
      "Tips Microsoft Dynamics Ax : 500+\n",
      "Tips & Tricks Dynamics AX 365 : 100+\n",
      "A-Z App Store : 500,000+\n",
      "BA Calculator : 5,000+\n",
      "Town of Princeton, BC : 100+\n",
      "Electricity Bill Calculator BD : 10,000+\n",
      "BD Attendance : 1,000+\n",
      "BD Field Force : 1,000+\n",
      "BG+Phone Backup : 1,000+\n",
      "ALL-IN-ONE PACKAGE TRACKING : 1,000,000+\n",
      "MinT BI : 10+\n",
      "BJ Memo Widget : 50,000+\n",
      "SKIN BK : 10+\n",
      "BM Interventi : 10+\n",
      "BAMMS for BM 1Park : 50+\n",
      "BAMMS for BM SQ : 10+\n",
      "BN Inscript Improved Input keyboard : 10+\n",
      "Calendars (En, Bn, Ar) : 1,000+\n",
      "BN DB1 App : 50+\n",
      "BN Inscript Improved Keyboard : 10+\n",
      "Add-On: bq (a) : 5,000+\n",
      "Add-On: bq (c) : 1,000+\n",
      "Add-On: bq (b) : 1,000+\n",
      "BV Mobile Apps : 100+\n",
      "BW Ultra : 10+\n",
      "BW-IVMS : 100+\n",
      "IP address BW : 500+\n",
      "BW t&t : 10+\n",
      "BZ Dealer : 500+\n",
      "CA World '17 : 1,000+\n",
      "Register.ca Mobile : 100+\n",
      "CD Library : 10,000+\n",
      "APagri CD : 10+\n",
      "CE SODEXO PASS FRANCE : 50+\n",
      "ACCEPT CE MARKING : 10+\n",
      "CG - Calendars Add-On : 5,000+\n",
      "CG - Conference Call Add-On : 1,000+\n",
      "Somos CG : 100+\n",
      "My CG : 10+\n",
      "Chrome Canary (Unstable) : 1,000,000+\n",
      "CI Remote for Go : 100+\n",
      "IQ Test : 100,000+\n",
      "Thistletown CI : 100+\n",
      "CI Time : 100+\n",
      "CircleCI Viewer : 1,000+\n",
      "CI CAFETERIAS UBER : 100+\n",
      "CJ'S TIRE AND AUTO INC. : 100+\n",
      "Commission Manager : 1,000+\n",
      "CJ Wilson's ZoomZoomnation : 500+\n",
      "Inch/cm/Foot Conversion : 100,000+\n",
      "cm, mm to inch, feet converter tool : 100,000+\n",
      "Krypton by krypt.co : 1,000+\n",
      "Fayr - Co-Parenting Simplified : 1,000+\n",
      "CP Connect 2.0 : 500+\n",
      "CQ Ukraine : 10+\n",
      "CQ Electrical Group : 1+\n",
      "iReadMe : 100+\n",
      "Ultimate Calculator for CR : 500,000+\n",
      "Ultimate Chest Tracker : 1,000,000+\n",
      "CamScanner - Phone PDF Creator : 100,000,000+\n",
      "Bomb and Nade Timer for CS:GO : 5,000+\n",
      "Solar CT PV System Power : 10,000+\n",
      "CT CONNECT : 50+\n",
      "My CU - Caucasus University : 1,000+\n",
      "Resume & CV Creator by Desygner : 5,000+\n",
      "Resume Builder and CV maker app : 100,000+\n",
      "Resume Free : 1,000,000+\n",
      "Curriculum Vitae - Resume CV : 10,000+\n",
      "Pocket RxTx Free : 100,000+\n",
      "Cx Wize : 100+\n",
      "CONNECT: The Mobile CX Summit : 50+\n",
      "CX Summit : 50+\n",
      "CY Security Antivirus Cleaner : 1,000,000+\n",
      "Phone Clean Best Speed Booster : 1,000,000+\n",
      "LOCX Applock Lock Apps & Photo : 10,000,000+\n",
      "RoutePlan.cz : 100+\n",
      "DB Manager : 1,000+\n",
      "DF-Server Mobile : 100+\n",
      "DG Report Reminder : 10,000+\n",
      "DG Phone Call Task Switcher : 1,000+\n",
      "DG Users : 100+\n",
      "e-Boks.dk : 1,000,000+\n",
      "Download Manager Pro FREE : 100,000+\n",
      "Trimble DL : 10,000+\n",
      "IDM Internet Download Manager : 100,000+\n",
      "Shaggy's DM Assistant : 5+\n",
      "DN Events : 500+\n",
      "WFVS 2018 | WhatApp Full Video Status & Downloader : 50,000+\n",
      "Mahalaxmi Dindarshika 2018 : 1,000,000+\n",
      "Microsoft To-Do: List, Task & Reminder : 1,000,000+\n",
      "To Do List : 5,000,000+\n",
      "To Do Reminder with Alarm : 1,000,000+\n",
      "Ike - To-Do List, Task List : 100,000+\n",
      "My Effectiveness: To do, Tasks : 500,000+\n",
      "Do it (Tomorrow) : 1,000,000+\n",
      "Do Not Disturb : 100,000+\n",
      "To-Do List Widget : 1,000,000+\n",
      "NoteToDo. Notes. To do list : 1,000,000+\n",
      "Memory Helper - To do list, Notepad, Notes, Memo : 500,000+\n",
      "2Do - Reminders, To-do List & Notes : 100,000+\n",
      "Time Planner - Schedule, To-Do List, Time Tracker : 500,000+\n",
      "MyLifeOrganized: To-Do List : 100,000+\n",
      "Cal - Google Calendar + Widget : 1,000,000+\n",
      "Clean My House – Chore To Do List, Task Scheduler : 100,000+\n",
      "Goal Meter: Goal Tracker, Habit Changer,To-Do List : 100,000+\n",
      "To-do list : 50,000+\n",
      "Adobe Fill & Sign: Easy PDF Form Filler : 1,000,000+\n",
      "Dr.Android Repair Master 2017 : 100,000+\n",
      "DS file : 1,000,000+\n",
      "DS note : 100,000+\n",
      "DS cam : 500,000+\n",
      "Synology Drive : 100,000+\n",
      "DS-20000S : 1,000+\n",
      "DT Manager : 500+\n",
      "DT Freight : 1+\n",
      "Clean My Android : 5,000,000+\n",
      "APUS Booster - Space Cleaner & Booster : 10,000,000+\n",
      "DV Web Design Tips : 10+\n",
      "Dz Dinars Numbers to letters : 100,000+\n",
      "Numbers Into Words : 50,000+\n",
      "DZ Register : 1+\n",
      "Epson iProjection : 1,000,000+\n",
      "EB Scanner : 50+\n",
      "Exército Brasileiro : 100,000+\n",
      "ec-Work : 100+\n",
      "New Holland Agriculture T5 EC : 1,000+\n",
      "EC Taximeter : 10,000+\n",
      "EC QR : 10+\n",
      "EC Sampler : 1+\n",
      "SCS eC : 100+\n",
      "EF Staff : 100+\n",
      "EF Calculator : 1,000+\n",
      "eG Monitor : 100+\n",
      "EG : 100+\n",
      "EI! : 10+\n",
      "Sai Baba - Sabka Malik Ek : 1,000+\n",
      "Ek Vote : 500+\n",
      "Ginger Keyboard - Emoji, GIFs, Themes & Games : 5,000,000+\n",
      "EP Home Energy Hub : 100+\n",
      "EP Cloud : 10+\n",
      "ER Assist : 10+\n",
      "ES Disk Analyzer - Storage Space : 100,000+\n",
      "ES Material Theme for Pro : 1,000,000+\n",
      "ES Holo Theme for Pro : 500,000+\n",
      "ES Billing System (Offline App) : 100+\n",
      "ESLock File Recovery Lite : 50,000+\n",
      "iTranslate Translator & Dictionary : 10,000,000+\n",
      "EU Economy : 5,000+\n",
      "Eurostat Country Profiles : 10,000+\n",
      "EU Brazil Green Business Forum : 10+\n",
      "Simple EV Calc : 1,000+\n",
      "EY Team Connect : 50+\n",
      "EY ATL Fuel Calculator : 500+\n",
      "EY Events Switzerland : 500+\n",
      "EZ Inspections : 10,000+\n",
      "EZ Display : 50,000+\n",
      "EZ File Manager(Root Explorer) : 100,000+\n",
      "EZ Notes Lite : 1,000+\n",
      "EZ Switch Widget : 100,000+\n",
      "MultiMessage for FB Messenger : 50,000+\n",
      "IDM for Facebook ★ Downloader : 100,000+\n",
      "Chelsea FC Official Keyboard : 1,000,000+\n",
      "Avast Wi-Fi Finder : 1,000,000+\n",
      "Safe Wi-Fi : 1,000+\n",
      "Wi-Fi Networks : 10,000+\n",
      "Fast Notes FJ : 500+\n",
      "FK Events : 5+\n",
      "Charlotte County, FL : 1,000+\n",
      "FL House : 1,000+\n",
      "Florida Cooling Supply HVAC : 500+\n",
      "Fort Myers FL : 100+\n",
      "MY GULFPORT FL : 50+\n",
      "Future Cloud : 100,000+\n",
      "FQ METER : 1,000+\n",
      "PLMGSS FR : 10+\n"
     ]
    }
   ],
   "source": [
    "for app in free_google:\n",
    "    if app[1] == 'PRODUCTIVITY':\n",
    "        print(app[0], ':', app[5])"
   ]
  },
  {
   "cell_type": "code",
   "execution_count": 48,
   "metadata": {},
   "outputs": [
    {
     "name": "stdout",
     "output_type": "stream",
     "text": [
      "TouchNote: Cards & Gifts : 1,000,000+\n",
      "FreePrints – Free Photos Delivered : 1,000,000+\n",
      "Groovebook Photo Books & Gifts : 500,000+\n",
      "Moony Lab - Print Photos, Books & Magnets ™ : 50,000+\n",
      "LALALAB prints your photos, photobooks and magnets : 1,000,000+\n",
      "Snapfish : 1,000,000+\n",
      "Motorola Camera : 50,000,000+\n",
      "HD Camera - Best Cam with filters & panorama : 5,000,000+\n",
      "LightX Photo Editor & Photo Effects : 10,000,000+\n",
      "Sweet Snap - live filter, Selfie photo edit : 10,000,000+\n",
      "HD Camera - Quick Snap Photo & Video : 1,000,000+\n",
      "B612 - Beauty & Filter Camera : 100,000,000+\n",
      "Waterfall Photo Frames : 1,000,000+\n",
      "Photo frame : 100,000+\n",
      "Huji Cam : 5,000,000+\n",
      "Unicorn Photo : 1,000,000+\n",
      "HD Camera : 5,000,000+\n",
      "Makeup Editor -Beauty Photo Editor & Selfie Camera : 1,000,000+\n",
      "Makeup Photo Editor: Makeup Camera & Makeup Editor : 1,000,000+\n",
      "Moto Photo Editor : 5,000,000+\n",
      "InstaBeauty -Makeup Selfie Cam : 50,000,000+\n",
      "Garden Photo Frames - Garden Photo Editor : 500,000+\n",
      "Photo Frame : 10,000,000+\n",
      "Selfie Camera - Photo Editor & Filter & Sticker : 50,000,000+\n",
      "Sweet Snap Lite - live filter, Selfie photo editor : 500,000+\n",
      "Selfie Camera: Beauty Camera, Photo Editor,Collage : 1,000,000+\n",
      "Night Photo Frame : 1,000,000+\n",
      "YouCam Makeup - Magic Selfie Makeovers : 100,000,000+\n",
      "Selfie Photo Editor : 1,000,000+\n",
      "ASUS Gallery : 50,000,000+\n",
      "Kids Photo Frames : 1,000,000+\n",
      "Pencil Photo Sketch-Sketching Drawing Photo Editor : 1,000,000+\n",
      "Pretty Makeup, Beauty Photo Editor & Snappy Camera : 5,000,000+\n",
      "Photo Collage - Layout Editor : 10,000,000+\n",
      "DSLR Camera Hd Ultra Professional : 1,000,000+\n",
      "Snap Cat Face Camera : 1,000,000+\n",
      "Silent Camera [High Quality] : 5,000,000+\n",
      "Sweet Camera - Selfie Filters, Beauty Camera : 10,000,000+\n",
      "Photo Frames : 10,000,000+\n",
      "Sweet Selfie - selfie camera, beauty cam, photo edit : 100,000,000+\n",
      "Candy selfie - photo editor, live filter camera : 10,000,000+\n",
      "Open Camera : 10,000,000+\n",
      "Beauty Makeup – Photo Makeover : 1,000,000+\n",
      "Blur Image Background Editor (Blur Photo Editor) : 5,000,000+\n",
      "Muzy - Share photos & collages : 5,000,000+\n",
      "QuickPic - Photo Gallery with Google Drive Support : 10,000,000+\n",
      "Flickr : 10,000,000+\n",
      "Camera for Android : 10,000,000+\n",
      "Photo Mixer : 10,000,000+\n",
      "Wondershare PowerCam : 10,000,000+\n",
      "love : 1,000,000+\n",
      "KVAD Camera +: Selfie, Photo Filter, Grids : 1,000,000+\n",
      "Camera51 - a smarter camera : 1,000,000+\n",
      "InstaCam - Camera for Selfie : 1,000,000+\n",
      "Sweet Camera : 5,000,000+\n",
      "RetroSelfie - Selfie Editor : 10,000,000+\n",
      "Mega Photo : 1,000,000+\n",
      "Blur Image Background : 10,000,000+\n",
      "MIX by Camera360 : 5,000,000+\n",
      "Google Photos : 1,000,000,000+\n",
      "SuperPhoto - Effects & Filters : 5,000,000+\n",
      "Camera FV-5 Lite : 10,000,000+\n",
      "HD Camera Ultra : 10,000,000+\n",
      "Cameringo Lite. Filters Camera : 10,000,000+\n",
      "Camera ZOOM FX - FREE : 5,000,000+\n",
      "HD Camera Pro for Android : 1,000,000+\n",
      "GoPro (formerly Capture) : 10,000,000+\n",
      "Beauty Makeup Snappy Collage Photo Editor - Lidow : 10,000,000+\n",
      "Samsung SMART CAMERA App : 1,000,000+\n",
      "Square InPic - Photo Editor & Collage Maker : 50,000,000+\n",
      "High-Speed Camera (GIF,Burst) : 5,000,000+\n",
      "Camera MX - Free Photo & Video Camera : 10,000,000+\n",
      "EyeEm - Camera & Photo Filter : 10,000,000+\n",
      "Retrica : 100,000,000+\n",
      "VSCO : 50,000,000+\n",
      "PhotoWonder: Pro Beauty Photo Editor Collage Maker : 50,000,000+\n",
      "Photo Effects Pro : 50,000,000+\n",
      "Photo Editor Selfie Camera Filter & Mirror Image : 50,000,000+\n",
      "No Crop & Square for Instagram : 10,000,000+\n",
      "Picture Grid Builder : 5,000,000+\n",
      "HD Camera for Android : 10,000,000+\n",
      "Photo Studio : 10,000,000+\n",
      "Photo Editor Pro : 100,000,000+\n",
      "Photo Editor- : 5,000,000+\n",
      "Mirror Photo:Editor Collage (HD) : 10,000,000+\n",
      "Pic Stitch - #1 Collage Maker : 1,000,000+\n",
      "PhotoDirector Photo Editor App : 10,000,000+\n",
      "Pic Collage - Photo Editor : 50,000,000+\n",
      "Photo Editor by Aviary : 50,000,000+\n",
      "Video Editor Music,Cut,No Crop : 50,000,000+\n",
      "Pixlr – Free Photo Editor : 50,000,000+\n",
      "Photo Editor : 10,000,000+\n",
      "Photo Collage Maker : 10,000,000+\n",
      "Adobe Photoshop Express:Photo Editor Collage Maker : 50,000,000+\n",
      "BeautyPlus - Easy Photo Editor & Selfie Camera : 100,000,000+\n",
      "PicsArt Photo Studio: Collage Maker & Pic Editor : 100,000,000+\n",
      "Photo Collage Editor : 100,000,000+\n",
      "Color Touch Effects : 10,000,000+\n",
      "InstaSize Photo Filters & Collage Editor : 50,000,000+\n",
      "Z Camera - Photo Editor, Beauty Selfie, Collage : 100,000,000+\n",
      "PhotoGrid: Video & Pic Collage Maker, Photo Editor : 100,000,000+\n",
      "Candy Camera - selfie, beauty camera, photo editor : 100,000,000+\n",
      "YouCam Perfect - Selfie Photo Editor : 100,000,000+\n",
      "Pixgram- video photo slideshow : 5,000,000+\n",
      "Fotor Photo Editor - Photo Collage & Photo Effects : 10,000,000+\n",
      "Snapseed : 50,000,000+\n",
      "Camera360: Selfie Photo Editor with Funny Sticker : 100,000,000+\n",
      "Font Studio- Photo Texts Image : 10,000,000+\n",
      "Add Text To Photo : 1,000,000+\n",
      "Phonto - Text on Photos : 10,000,000+\n",
      "Collage&Add Stickers papelook : 5,000,000+\n",
      "Shutterfly: Free Prints, Photo Books, Cards, Gifts : 5,000,000+\n",
      "Photo Collage - InstaMag : 10,000,000+\n",
      "Meitu – Beauty Cam, Easy Photo Editor : 10,000,000+\n",
      "Bestie - Camera360 Selfie : 10,000,000+\n",
      "B Tiff Viewer : 100,000+\n",
      "F-Stop Gallery : 1,000,000+\n",
      "How Do I Look : 500,000+\n",
      "Keepsafe Photo Vault: Hide Private Photos & Videos : 50,000,000+\n",
      "MakeupPlus - Your Own Virtual Makeup Artist : 50,000,000+\n",
      "Pixlr-o-matic : 10,000,000+\n",
      "PixelLab - Text on pictures : 10,000,000+\n",
      "Leica Q : 10,000+\n",
      "S Photo Editor - Collage Maker , Photo Collage : 100,000,000+\n",
      "U Camera : Phone 6s OS 9 style : 500,000+\n",
      "V.360° Camera : 100,000+\n",
      "Profile w/o crop for Telegram : 10,000+\n",
      "Z Camera : 10,000+\n",
      "Six Pack Abs Photo Editor : 1,000,000+\n",
      "Brica BPRO5 AE : 500,000+\n",
      "AfterFocus : 10,000,000+\n",
      "DSLR camera - Auto Focus and Blur Professional : 10,000+\n",
      "AR effect : 100,000,000+\n",
      "ASUS PixelMaster Camera : 10,000,000+\n",
      "easyFocus : 500,000+\n",
      "Blur Image - DSLR focus effect : 5,000,000+\n",
      "Camera Pro : 1,000,000+\n",
      "HD Camera - silent shutter : 1,000,000+\n",
      "A Better Camera : 5,000,000+\n",
      "Auto Dslr Photo Effect : Auto Focus Effect : 1,000+\n",
      "PhotoScan by Google Photos : 10,000,000+\n",
      "Afterlight : 1,000,000+\n",
      "Blurfoto : Auto blur photo background & DSLR focus : 500,000+\n",
      "Blur : 1,000,000+\n",
      "Picai - Smart AI Camera : 100,000+\n",
      "Adobe Illustrator Draw : 5,000,000+\n",
      "FaceApp : 10,000,000+\n",
      "AI Image Recognizer (beta) : 500+\n",
      "AJ Cam : 100+\n",
      "Selfie With Champion AJ Style : 500+\n",
      "A.J. Styles HD Wallpapers 2018 : 100+\n",
      "Scoompa Video - Slideshow Maker and Video Editor : 10,000,000+\n",
      "AEE AP : 1,000+\n",
      "SNOW - AR Camera : 50,000,000+\n",
      "Add Watermark Free : 1,000,000+\n",
      "camera zoom moon : 500,000+\n",
      "AZ Camera - Manual Pro Cam : 100,000+\n",
      "BC Camera : 500+\n",
      "Photo Editor by BeFunky : 10,000,000+\n",
      "Be Fabulous PHOTO BOOTH : 10,000+\n",
      "Adobe Photoshop Fix : 5,000,000+\n",
      "Photo BG Changer : 1,000+\n",
      "BG Editor : 5+\n",
      "PhotoLayers〜Superimpose,Eraser : 10,000,000+\n",
      "Blender BG - Photo Blend With Background : 100+\n",
      "Auto Background Changer : 1,000,000+\n",
      "Change photo background : 5,000,000+\n",
      "Background Eraser : 10,000,000+\n",
      "Background Changer & Eraser : 500,000+\n",
      "Cut Out : Background Eraser and background changer : 1,000,000+\n",
      "Ultimate Background Eraser : 1,000,000+\n",
      "DSLR Photography Training apps : 100,000+\n",
      "Photo Editor - BPhoto : 1,000+\n",
      "24 megapixel hd camera : 100,000+\n",
      "BK Photography : 1,000+\n",
      "BL 1-Click Camera - Free : 10,000+\n",
      "BL Portfolio : 100+\n",
      "BQ Camera : 1,000,000+\n",
      "BT Camera : 500,000+\n",
      "BlitzWolf Shutter - BW Shutter : 50,000+\n",
      "Black & White Camera - Lovely BW : 100,000+\n",
      "Analog BW - Camera filter effect foto film retouch : 100+\n",
      "Hypocam : 1,000,000+\n",
      "B&W Photo Filter Editor : 50,000+\n",
      "CB VIDEO VISION : 100+\n",
      "CB Hair Png - New Hair Png For CB Editing : 500+\n",
      "CB Edits PNG & CB Backgrounds : 5,000+\n",
      "CG Prints : 100+\n",
      "Gold Teeth Photo Editor : 100,000+\n",
      "Night Camera Blur Effect : 10,000+\n",
      "Camera V7 24 Megapixel : 100,000+\n",
      "Leica CL : 1,000+\n",
      "Canon CameraWindow : 1,000,000+\n",
      "Cymera Camera- Photo Editor, Filter,Collage,Layout : 100,000,000+\n",
      "Camera360 Lite - Selfie Camera : 10,000,000+\n",
      "Wallpaper.cz : 100+\n",
      "Face Filter, Selfie Editor - Sweet Camera : 10,000,000+\n",
      "Visage Lab – face retouch : 5,000,000+\n",
      "LC-DB-LITE : 100+\n",
      "DC-014 : 500+\n",
      "Bokeh (Background defocus) : 10,000,000+\n",
      "Love Collage - Photo Editor : 10,000,000+\n",
      "LINE Camera - Photo editor : 100,000,000+\n",
      "DF Night Selfies : 10,000+\n",
      "My Photo Keyboard : 10,000,000+\n",
      "Story Saver for Instagram : 5,000,000+\n",
      "Boomerang from Instagram : 50,000,000+\n",
      "Insave-Download for Instagram : 1,000,000+\n",
      "DP Editor : 5,000+\n",
      "DP Maker : 100,000+\n",
      "Square DP For Whatsapp : 10,000+\n",
      "DP Creator for WhatsApp : 100,000+\n",
      "Dp For FB : 1,000+\n",
      "Magical Insta DP : 1,000+\n",
      "All Types DP & Status Maker : 1,000+\n",
      "DP Photo Editor : 10,000+\n",
      "Fifa World Cup 2018: Photo Frame Editor & DP Maker : 100,000+\n",
      "Insta Square Profile DP : 5,000+\n",
      "DP Status 2017 : 50,000+\n",
      "LightMeter Free : 1,000,000+\n",
      "DS-L4 Viewer : 1,000+\n",
      "DU GIF Maker: GIF Maker, Video to GIF & GIF Editor : 500,000+\n",
      "DU Collage Maker - Photo Collage & Grid & Layout : 100,000+\n",
      "Live DV : 1,000+\n",
      "DV-4036 by Somikon : 1,000+\n",
      "Touch DV : 50+\n",
      "XDV : 1,000,000+\n",
      "DV Lottery Photo Tool : 50,000+\n",
      "DV KING 4K : 100+\n",
      "Wifi Action Camera : 50,000+\n",
      "4K Ultra Camera : 100,000+\n",
      "DV KING : 100+\n",
      "DENVER ACTION CAM 3 : 10,000+\n",
      "SportLook : 100,000+\n",
      "Displaying You VR : 50+\n",
      "i am EB : 10+\n",
      "Retro Camera : 10,000,000+\n",
      "Footej Camera : 1,000,000+\n",
      "Video Maker with Photo and Music : 1,000,000+\n",
      "Phogy, 3D Camera : 1,000,000+\n",
      "Photo Lab Picture Editor: face effects, art frames : 50,000,000+\n",
      "MomentCam Cartoons & Stickers : 50,000,000+\n",
      "A+ Gallery - Photos & Videos : 10,000,000+\n",
      "Light Meter - EV : 1,000+\n",
      "FilterGrid - Cam&Photo Editor : 1,000,000+\n",
      "ez Share Android app : 100,000+\n",
      "Ez iCam : 1,000,000+\n",
      "Facejjang : 10,000,000+\n",
      "Cover Camera for FB : 100,000+\n",
      "FB Photographie : 1,000+\n",
      "FD Fotografia : 100+\n",
      "Ghost In Photo : 5,000,000+\n",
      "FH WiFiCam : 10,000+\n",
      "PIP Selfie Camera Photo Editor : 10,000,000+\n",
      "FL Drone 2 : 5,000+\n",
      "FN Cam : 10,000+\n",
      "PIP-Camera FN Photo Effect : 1,000+\n",
      "Photo Editor Collage Maker Pro : 100,000,000+\n",
      "Free Slideshow Maker & Video Editor : 10,000,000+\n",
      "Thumbnail Maker : 1,000,000+\n",
      "PhotoFunia : 10,000,000+\n"
     ]
    }
   ],
   "source": [
    "for app in free_google:\n",
    "    if app[1] == 'PHOTOGRAPHY':\n",
    "        print(app[0], ':', app[5])"
   ]
  },
  {
   "cell_type": "markdown",
   "metadata": {},
   "source": [
    "### Google Android app recommendation\n",
    "\n",
    "I would recommend a Productivity app since this is popular in the market and there are many apps with high installations"
   ]
  }
 ],
 "metadata": {
  "kernelspec": {
   "display_name": "Python 3",
   "language": "python",
   "name": "python3"
  },
  "language_info": {
   "codemirror_mode": {
    "name": "ipython",
    "version": 3
   },
   "file_extension": ".py",
   "mimetype": "text/x-python",
   "name": "python",
   "nbconvert_exporter": "python",
   "pygments_lexer": "ipython3",
   "version": "3.8.2"
  }
 },
 "nbformat": 4,
 "nbformat_minor": 2
}
